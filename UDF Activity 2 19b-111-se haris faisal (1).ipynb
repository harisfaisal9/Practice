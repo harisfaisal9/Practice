{
 "cells": [
  {
   "cell_type": "markdown",
   "metadata": {},
   "source": [
    "# Python User Define Function Practice Activity - 2 "
   ]
  },
  {
   "cell_type": "markdown",
   "metadata": {},
   "source": [
    "Asst. Prof. Syed Faisal Ali              $\\;\\;\\;\\;\\;\\;$              Programming Fundamentals - FALL 2019 $\\;\\;\\;\\;\\;\\;$ Software Engineering                     $\\;\\;\\;\\;\\;\\;$                   Dated: 27 Nov 2019"
   ]
  },
  {
   "cell_type": "markdown",
   "metadata": {},
   "source": [
    "Question 1: Create a function to find the following:\n",
    "If the base of triangle is 3 cm long and its equilateral triangle and the radius of circle is 1.5 cm then find the area of triangle shaded. \n"
   ]
  },
  {
   "cell_type": "markdown",
   "metadata": {},
   "source": [
    "![proj](q1.jpg)"
   ]
  },
  {
   "cell_type": "code",
   "execution_count": 5,
   "metadata": {},
   "outputs": [
    {
     "name": "stdout",
     "output_type": "stream",
     "text": [
      "the area of shaded region is  24.73451754256331\n"
     ]
    }
   ],
   "source": [
    "import math\n",
    "def area(r,l):\n",
    "    areaofcircle=math.pi*r*r\n",
    "    areaoftriangle=l*l*3\n",
    "    x=areaoftriangle-areaofcircle\n",
    "    print(\"the area of shaded region is \",x)\n",
    "    \n",
    "area(4,5)"
   ]
  },
  {
   "cell_type": "markdown",
   "metadata": {},
   "source": [
    "Question 2: Create a function which can read a dictionary of your family members such as 5 members. \n",
    "1 Abbu, 1 Ammi, 2 Brothers 1 Sister. Now feed this data in dictionary in terms of name and relations.\n",
    "The UDF will ask findrelation() in this you will enter Brother it will return the names of two brothers you have inserted. In case if the relation is not found it will return “Sorry the relation doesn’t exist in your family.” \n"
   ]
  },
  {
   "cell_type": "code",
   "execution_count": 15,
   "metadata": {},
   "outputs": [
    {
     "name": "stdout",
     "output_type": "stream",
     "text": [
      "sohana\n",
      "rukhsana\n"
     ]
    }
   ],
   "source": [
    "def relation(d):\n",
    "    dict={'father':'ali','brother':'sameer,kabeer','sister':'rukhsana','mother':'sohana'}\n",
    "    x=dict[d]\n",
    "    return x\n",
    "print(relation('mother'))\n",
    "print(relation('sister'))"
   ]
  },
  {
   "cell_type": "markdown",
   "metadata": {},
   "source": [
    "Question 3: Create a function to find the following:\n",
    "If the base of triangle is 5 cm long and its equilateral triangle and the radius of circle is 2.25 cm then find the area of triangle shaded. \n"
   ]
  },
  {
   "cell_type": "markdown",
   "metadata": {},
   "source": [
    "![proj](q3.jpg)"
   ]
  },
  {
   "cell_type": "code",
   "execution_count": 19,
   "metadata": {},
   "outputs": [
    {
     "name": "stdout",
     "output_type": "stream",
     "text": [
      "the area of shaded region is  2.25  cm sq\n"
     ]
    }
   ],
   "source": [
    "import math\n",
    "def area1(r,l):\n",
    "    circlearea=math.pi*r*r\n",
    "    triarea=l*l*3\n",
    "    x=circlearea-triarea\n",
    "    print(\"the area of shaded region is \",r,\" cm sq\")\n",
    "area1(2.25,8)"
   ]
  },
  {
   "cell_type": "markdown",
   "metadata": {},
   "source": [
    "Question 4:\n",
    "Create a function that takes a list of random numbers from users and add only those which are even. If all the numbers are odd it will return sorry no even number found.\n"
   ]
  },
  {
   "cell_type": "code",
   "execution_count": 23,
   "metadata": {},
   "outputs": [
    {
     "name": "stdout",
     "output_type": "stream",
     "text": [
      "the sum of even numbers are  14\n"
     ]
    }
   ],
   "source": [
    "def even(a,b,c,d,e):\n",
    "    lst=[a,b,c,d,e]\n",
    "    sum=0\n",
    "    for i in lst:\n",
    "        if i%2==0:\n",
    "            sum+=i\n",
    "    print(\"the sum of even numbers are \",sum)\n",
    "even(2,8,4,9,7)"
   ]
  },
  {
   "cell_type": "markdown",
   "metadata": {},
   "source": [
    "Question 5:\n",
    "Write a function which can take a list of numbers and it will return sorted list.\n"
   ]
  },
  {
   "cell_type": "code",
   "execution_count": 24,
   "metadata": {},
   "outputs": [
    {
     "name": "stdout",
     "output_type": "stream",
     "text": [
      "the sorted list is  [11, 22, 33, 44, 88, 99]\n"
     ]
    }
   ],
   "source": [
    "def sortt(a,b,c,d,e,f):\n",
    "    lst=[a,b,c,d,e,f]\n",
    "    lst.sort()\n",
    "    print(\"the sorted list is \",lst)\n",
    "sortt(44,88,11,99,22,33)"
   ]
  },
  {
   "cell_type": "markdown",
   "metadata": {},
   "source": [
    "Question 6:\n",
    "Write a function that will take the radius and return the perimeter and area of circle with 5% increment.\n"
   ]
  },
  {
   "cell_type": "code",
   "execution_count": 46,
   "metadata": {},
   "outputs": [
    {
     "name": "stdout",
     "output_type": "stream",
     "text": [
      "5% 52.778756580308524 \n",
      "5% 26.389378290154262\n"
     ]
    }
   ],
   "source": [
    "import math\n",
    "def area_perimeter(r):\n",
    "    area=math.pi*r*r\n",
    "    peri=2*math.pi*r\n",
    "    x=area/20\n",
    "    a=area+x\n",
    "    y=peri/20\n",
    "    b=peri+y\n",
    "    print(\"5%\",a,\"\\n5%\",b)\n",
    "area_perimeter(4)"
   ]
  },
  {
   "cell_type": "markdown",
   "metadata": {},
   "source": [
    "Question 7:\n",
    "Write a function that will take the strings as argument and return number of vowels and consonants.\n"
   ]
  },
  {
   "cell_type": "code",
   "execution_count": 37,
   "metadata": {},
   "outputs": [
    {
     "name": "stdout",
     "output_type": "stream",
     "text": [
      "vowels 2\n",
      "consonant 3\n"
     ]
    }
   ],
   "source": [
    "def vowels(x):\n",
    "    vow=0\n",
    "    cons=0\n",
    "    for i in x:\n",
    "        if i in \"aeiouAEIOU\":\n",
    "            vow+=1\n",
    "        else:\n",
    "            cons+=1\n",
    "    print(\"vowels\",vow)\n",
    "    print(\"consonant\",cons)\n",
    "vowels(\"Haris\")"
   ]
  },
  {
   "cell_type": "code",
   "execution_count": null,
   "metadata": {},
   "outputs": [],
   "source": []
  },
  {
   "cell_type": "code",
   "execution_count": null,
   "metadata": {},
   "outputs": [],
   "source": []
  },
  {
   "cell_type": "markdown",
   "metadata": {},
   "source": [
    "Question 8:\n",
    "Write a function that will take length and breadth for a rectangle and return perimeter and area of rectangle with 8% increment.\n"
   ]
  },
  {
   "cell_type": "code",
   "execution_count": 54,
   "metadata": {},
   "outputs": [
    {
     "name": "stdout",
     "output_type": "stream",
     "text": [
      "the perimeter of rectangle is  32.4 \n",
      "the area of rectangle is  54.0\n"
     ]
    }
   ],
   "source": [
    "def peri_area(l,b):\n",
    "    p=2*(l+b)\n",
    "    a=l*b\n",
    "    x=p/12.5+p\n",
    "    y=a/12.5+a\n",
    "    print(\"the perimeter of rectangle is \",x,\"\\nthe area of rectangle is \",y)\n",
    "peri_area(5,10)"
   ]
  },
  {
   "cell_type": "markdown",
   "metadata": {},
   "source": [
    "Question 9:\n",
    "Write a function that can take the numbers in strings. From string find which number is even and which one is odd. Save them in two different lists and generate the result.\n"
   ]
  },
  {
   "cell_type": "code",
   "execution_count": 56,
   "metadata": {},
   "outputs": [
    {
     "name": "stdout",
     "output_type": "stream",
     "text": [
      "even list are  [44, 2, 22, 12] \n",
      "odd list are  [43, 11]\n"
     ]
    }
   ],
   "source": [
    "def str1(a,b,c,d,e,f):\n",
    "    even=[]\n",
    "    odd=[]\n",
    "    lst=[a,b,c,d,e,f]\n",
    "    for i in lst:\n",
    "        if i%2==0:\n",
    "            even.append(i)\n",
    "        else:\n",
    "            odd.append(i)\n",
    "    print(\"even list are \",even,\"\\nodd list are \",odd)\n",
    "str1(43,44,2,11,22,12)"
   ]
  },
  {
   "cell_type": "markdown",
   "metadata": {},
   "source": [
    "Question 10:\n",
    "Write a function which will take the string from the user and return how many alphabets have been used in it and which alphabets are missing.\n"
   ]
  },
  {
   "cell_type": "code",
   "execution_count": 62,
   "metadata": {},
   "outputs": [
    {
     "name": "stdout",
     "output_type": "stream",
     "text": [
      "missing alphabets ['b', 'c', 'd', 'e', 'f', 'g', 'j', 'k', 'l', 'm', 'n', 'o', 'p', 'q', 't', 'u', 'v', 'w', 'x', 'y', 'z']\n",
      "used alphabets haris\n",
      "h a r i s "
     ]
    }
   ],
   "source": [
    "def alpha(s):\n",
    "    alphabets=['a','b','c','d','e','f','g','h','i','j','k','l','m','n','o','p','q','r','s','t','u','v','w','x','y','z']\n",
    "    for i in s:\n",
    "        alphabets.remove(i)\n",
    "    print('missing alphabets',alphabets)\n",
    "    print(\"used alphabets\",s)\n",
    "    for i in s:\n",
    "        print(i,end=\" \")\n",
    "alpha(\"haris\")"
   ]
  },
  {
   "cell_type": "markdown",
   "metadata": {},
   "source": [
    "Question 11:\n",
    "Write a function that will take verbs in words and return a list of verbs with continuous tense by adding (ing) at the end of each verb.\n"
   ]
  },
  {
   "cell_type": "code",
   "execution_count": 77,
   "metadata": {},
   "outputs": [
    {
     "name": "stdout",
     "output_type": "stream",
     "text": [
      "heying\n",
      "chating\n"
     ]
    }
   ],
   "source": [
    "def verb(x):\n",
    "    return x+\"ing\"\n",
    "print(verb(\"hey\"))\n",
    "print(verb(\"chat\"))"
   ]
  },
  {
   "cell_type": "markdown",
   "metadata": {},
   "source": [
    "Question 12:\n",
    "Make a function which can take two radius of circles and find the areas of it and subtract smaller one from larger one and tell the remaining area of circle.\n"
   ]
  },
  {
   "cell_type": "code",
   "execution_count": 66,
   "metadata": {},
   "outputs": [
    {
     "name": "stdout",
     "output_type": "stream",
     "text": [
      "the area of circle is  109.95574287564276\n",
      "None\n",
      "the area of circle is  109.95574287564276\n",
      "None\n"
     ]
    }
   ],
   "source": [
    "import math\n",
    "def area(r1,r2):\n",
    "    area1=math.pi*r1*r1\n",
    "    area2=math.pi*r2*r2\n",
    "    if r1>r2:\n",
    "        a=area1-area2\n",
    "        print(\"the area of circle is \",a)\n",
    "    elif r1<r2:\n",
    "        a=area2-area1\n",
    "        print(\"the area of circle is \",a)\n",
    "print(area(6,1))\n",
    "print(area(6,1))"
   ]
  },
  {
   "cell_type": "markdown",
   "metadata": {},
   "source": [
    "Question 13:\n",
    "Write a function that will take a string and calculate number of Upper case letters and lower case letters.\n"
   ]
  },
  {
   "cell_type": "code",
   "execution_count": 78,
   "metadata": {},
   "outputs": [
    {
     "name": "stdout",
     "output_type": "stream",
     "text": [
      "lower case 2\n",
      "upper case 3\n"
     ]
    }
   ],
   "source": [
    "def string_count(x):\n",
    "    count1=0\n",
    "    count2=0\n",
    "    for i in x:\n",
    "        if (i.islower()):\n",
    "            count1+=1\n",
    "        elif (i.isupper()):\n",
    "            count2+=1\n",
    "    print(\"lower case\",count1)\n",
    "    print(\"upper case\",count2)\n",
    "string_count(\"HarIS\")"
   ]
  },
  {
   "cell_type": "markdown",
   "metadata": {},
   "source": [
    "Question 14:\n",
    "Write a function which will take length and breadth of two rectangles. Subtract the smaller rectangle from the larger rectangle and return the area left behind.\n"
   ]
  },
  {
   "cell_type": "code",
   "execution_count": 91,
   "metadata": {},
   "outputs": [
    {
     "name": "stdout",
     "output_type": "stream",
     "text": [
      "the area of rectangle is  4  m.sq\n",
      "the area of rectangle is  30  m.sq\n"
     ]
    }
   ],
   "source": [
    "def arect(l1,b1,l2,b2):\n",
    "    area1=l1*b1\n",
    "    area2=l2*b2\n",
    "    if area1>area2:\n",
    "        area=area1-area2\n",
    "        print(\"the area of rectangle is \",area,\" m.sq\")\n",
    "    elif area2>area1:\n",
    "        area=area2-area1\n",
    "        print(\"the area of rectangle is \",area,\" m.sq\")\n",
    "arect(4,1,2,4)\n",
    "arect(5,1,7,5)"
   ]
  },
  {
   "cell_type": "markdown",
   "metadata": {},
   "source": [
    "Question 15:\n",
    "Create a function that can add the fractions in series such as 1 to 8 = 1/8+1/7+1/6+1/5 …… ½ and return the result in fraction not in decimal.\n"
   ]
  },
  {
   "cell_type": "code",
   "execution_count": 92,
   "metadata": {},
   "outputs": [
    {
     "name": "stdout",
     "output_type": "stream",
     "text": [
      "3349/2520\n"
     ]
    }
   ],
   "source": [
    "import fractions\n",
    "def frac(n1,n2):\n",
    "    lst=[]\n",
    "    for i in range(n1,n2+1):\n",
    "        x=fractions.Fraction(1,i)\n",
    "        lst.append(x)\n",
    "    print(sum(lst))\n",
    "frac(3,9)"
   ]
  },
  {
   "cell_type": "markdown",
   "metadata": {},
   "source": [
    "Question 16:\n",
    "Write a function which will take height and base for a triangle and \n"
   ]
  },
  {
   "cell_type": "code",
   "execution_count": 93,
   "metadata": {},
   "outputs": [
    {
     "name": "stdout",
     "output_type": "stream",
     "text": [
      "the third side of triangle is  5.0\n"
     ]
    }
   ],
   "source": [
    "import math\n",
    "def tri(a,b):\n",
    "    C=(a*a)+(b*b)\n",
    "    c=math.sqrt(C)\n",
    "    print(\"the third side of triangle is \",c)\n",
    "tri(4,3)"
   ]
  },
  {
   "cell_type": "markdown",
   "metadata": {},
   "source": [
    "Question 17:\n",
    "Write a function which will take a list of fruits names. The function will return how many alphabets are repetitive in the names of fruits and how many are unique letters.\n"
   ]
  },
  {
   "cell_type": "code",
   "execution_count": 99,
   "metadata": {},
   "outputs": [
    {
     "name": "stdout",
     "output_type": "stream",
     "text": [
      "the repititive elements are:  7\n"
     ]
    }
   ],
   "source": [
    "import collections\n",
    "def repwords(a,b,c):\n",
    "    lst=[a,b,c]\n",
    "    z=0\n",
    "    an=0\n",
    "    for i in lst:\n",
    "        for j in i:\n",
    "            n=i.count(j)\n",
    "            if n>1:\n",
    "                an+=1\n",
    "    print('the repititive elements are: ',an)\n",
    "repwords(\"apple\",'banana','orange')"
   ]
  },
  {
   "cell_type": "markdown",
   "metadata": {},
   "source": [
    "Question 18:\n",
    "Write a function that can take square length and radius of circle. Find the area of both and subtract the smallest shape from largest one and return the remaining shape area.\n"
   ]
  },
  {
   "cell_type": "code",
   "execution_count": 110,
   "metadata": {},
   "outputs": [
    {
     "name": "stdout",
     "output_type": "stream",
     "text": [
      "the area of shape is  3500\n",
      "the area of shape is  3500\n"
     ]
    }
   ],
   "source": [
    "def shape_area(l1,r1,l2,r2):\n",
    "    area1=l1*l1*r1\n",
    "    area2=l2*l2*r2\n",
    "    if area1>area2:\n",
    "        area=area1-area2\n",
    "        print(\"the area of shape is \",area)\n",
    "    elif area2>area1:\n",
    "        area=area2-area1\n",
    "        print(\"the area of shape is \",area)\n",
    "shape_area(10,5,20,10)\n",
    "shape_area(20,10,10,5)"
   ]
  }
 ],
 "metadata": {
  "kernelspec": {
   "display_name": "Python 3",
   "language": "python",
   "name": "python3"
  },
  "language_info": {
   "codemirror_mode": {
    "name": "ipython",
    "version": 3
   },
   "file_extension": ".py",
   "mimetype": "text/x-python",
   "name": "python",
   "nbconvert_exporter": "python",
   "pygments_lexer": "ipython3",
   "version": "3.7.3"
  }
 },
 "nbformat": 4,
 "nbformat_minor": 2
}
